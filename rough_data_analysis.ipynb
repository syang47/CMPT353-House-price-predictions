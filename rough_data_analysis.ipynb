{
 "cells": [
  {
   "cell_type": "code",
   "execution_count": 1,
   "id": "3248d39c",
   "metadata": {},
   "outputs": [],
   "source": [
    "import pandas as pd\n",
    "import numpy as np\n",
    "from math import radians, cos, sin, asin, sqrt\n",
    "\n",
    "def read_data():\n",
    "    listings_data = pd.read_csv('listings.csv.gz')\n",
    "    amenities_data = pd.read_json('amenities-vancouver.json.gz', lines=True)\n",
    "    return listings_data, amenities_data\n",
    "\n",
    "\n",
    "def clean_amenities_data(amenities_data, amenities_required):\n",
    "\n",
    "    #find unique amenities and the number of them to choose which are important for a traveller\n",
    "    # print(amenities_data['amenity'].value_counts())\n",
    "\n",
    "    #adapted from : https://www.kite.com/python/answers/how-to-filter-a-pandas-dataframe-with-a-list-by-%60in%60-or-%60not-in%60-in-python\n",
    "    bool_series = amenities_data.amenity.isin(amenities_required)\n",
    "    filtered_amenities_df = amenities_data[bool_series]\n",
    "    filtered_amenities_df = filtered_amenities_df.drop(['timestamp','tags'], axis=1).dropna() # dropping unnecessary columns, and filter out NA values\n",
    "    filtered_amenities_df.reset_index(inplace=True, drop=True)\n",
    "\n",
    "    return filtered_amenities_df\n",
    "\n",
    "\n",
    "#reference: https://stackoverflow.com/questions/4913349/haversine-formula-in-python-bearing-and-distance-between-two-gps-points\n",
    "def haversine_distance(lon1, lat1, lon2, lat2):\n",
    "    # convert decimal degrees to radians \n",
    "    lon1, lat1, lon2, lat2 = map(radians, [lon1, lat1, lon2, lat2])\n",
    "    # haversine formula \n",
    "    dlon = lon2 - lon1 \n",
    "    dlat = lat2 - lat1 \n",
    "    a = sin(dlat/2)**2 + cos(lat1) * cos(lat2) * sin(dlon/2)**2\n",
    "    c = 2 * asin(sqrt(a)) \n",
    "    r = 6371 # Radius of earth in kilometers. Use 3956 for miles\n",
    "    return c * r * 1000\n",
    "\n",
    "def haversine_distance2(df, lon2, lat2):\n",
    "    # convert decimal degrees to radians \n",
    "    lon1=np.radians(df['lon'])\n",
    "    lat1=np.radians(df['lat'])\n",
    "    lon2=np.radians(lon2)\n",
    "    lat2=np.radians(lat2)\n",
    "    # haversine formula \n",
    "    dlon = lon2 - lon1 \n",
    "    dlat = lat2 - lat1 \n",
    "    a = (dlat/2).apply(sin)**2 + (lat1).apply(sin) * cos(lat2) * (dlon/2).apply(sin)**2\n",
    "    c = 2 * ((a).apply(sqrt).apply(asin)) \n",
    "    r = 6371 # Radius of earth in kilometers. Use 3956 for miles\n",
    "    return c * r * 1000\n",
    "\n",
    "def clean_listings_data(listings_data):\n",
    "    #keep only the columns we need\n",
    "    columns_needed = ['id', 'listing_url', 'name', 'description', 'picture_url', 'latitude', 'longitude', 'property_type', 'accommodates', 'bedrooms', 'beds', 'amenities', 'price']\n",
    "    listings_data = listings_data[columns_needed]\n",
    "    return listings_data\n",
    "\n",
    "\n",
    "# #TODO: return a dictionary with number of amenities in a 1km radius of this lat and lon\n",
    "def num_amenities(lat, lon, amenities_data_clean):\n",
    "    distance = haversine_distance2(amenities_data_clean, lon, lat)\n",
    "    amenities_data_clean['distance'] = distance\n",
    "    data_withinR = amenities_data_clean.loc[amenities_data_clean['distance'] < 1000].reset_index(drop=True)\n",
    "    amenities_series = data_withinR.pivot_table(columns = ['amenity'], aggfunc='size')  # Counts # of amenities, type=pd.series\n",
    "    amenities_dict = amenities_series.to_dict()# converts series to dict\n",
    "    return amenities_dict"
   ]
  },
  {
   "cell_type": "code",
   "execution_count": null,
   "id": "d823eaec",
   "metadata": {},
   "outputs": [],
   "source": [
    "#Read Data\n",
    "listings_data, amenities_data = read_data()\n",
    "\n",
    "# Change amenities here (updated the \"restaurant\" typo)\n",
    "amenities_required = ['restaurant', 'fast_food', 'cafe','bank','atm','pharmacy','bicycle_rental','fuel','pub','bar','car_sharing','car_rental','clinic','doctors','hospital','ice_cream','fountain','theatre','police','bus_station']\n",
    "\n",
    "#Data Cleaning\n",
    "amenities_data_clean = clean_amenities_data(amenities_data, amenities_required)\n",
    "listings_data_clean = clean_listings_data(listings_data)\n",
    "\n",
    "\n",
    "#Return a dict of amenities:\n",
    "lat_input = 49.225164  # sample lat input\n",
    "lon_input = -123.003742  # sample lon input\n",
    "amen_dict = num_amenities(lat_input, lon_input, amenities_data_clean)"
   ]
  },
  {
   "cell_type": "code",
   "execution_count": null,
   "id": "d9204f48",
   "metadata": {},
   "outputs": [],
   "source": [
    "amen_dict"
   ]
  },
  {
   "cell_type": "code",
   "execution_count": null,
   "id": "ef799232",
   "metadata": {},
   "outputs": [],
   "source": [
    "listings_data_clean = listings_data_clean.head(100)\n",
    "listings_data_clean"
   ]
  },
  {
   "cell_type": "code",
   "execution_count": null,
   "id": "ffe879ba",
   "metadata": {},
   "outputs": [],
   "source": [
    "listings_data_clean['num_amenities_nearby'] = listings_data_clean.apply(lambda x: num_amenities(x['latitude'], x['longitude'], amenities_data_clean), axis = 1)"
   ]
  },
  {
   "cell_type": "code",
   "execution_count": null,
   "id": "332a5a09",
   "metadata": {},
   "outputs": [],
   "source": [
    "listings_data_clean['num_amenities_nearby']"
   ]
  },
  {
   "cell_type": "code",
   "execution_count": null,
   "id": "9ee0d0a1",
   "metadata": {},
   "outputs": [],
   "source": [
    "listings_data_clean"
   ]
  },
  {
   "cell_type": "code",
   "execution_count": null,
   "id": "9e75f3bf",
   "metadata": {},
   "outputs": [],
   "source": [
    "listings_data_clean['price'] = listings_data_clean['price'].apply(lambda x: float(x.replace('$','')))"
   ]
  },
  {
   "cell_type": "code",
   "execution_count": null,
   "id": "62bcf7e1",
   "metadata": {},
   "outputs": [],
   "source": [
    "listings_data_clean = listings_data_clean.loc[(listings_data_clean['price'] <= 150) & (listings_data_clean['accommodates'] >= 3) & (listings_data_clean['bedrooms'] >= 2)]"
   ]
  },
  {
   "cell_type": "code",
   "execution_count": null,
   "id": "814c09ed",
   "metadata": {},
   "outputs": [],
   "source": [
    "listings_data_clean"
   ]
  },
  {
   "cell_type": "code",
   "execution_count": null,
   "id": "e4a13b87",
   "metadata": {},
   "outputs": [],
   "source": []
  }
 ],
 "metadata": {
  "kernelspec": {
   "display_name": "Python 3",
   "language": "python",
   "name": "python3"
  },
  "language_info": {
   "codemirror_mode": {
    "name": "ipython",
    "version": 3
   },
   "file_extension": ".py",
   "mimetype": "text/x-python",
   "name": "python",
   "nbconvert_exporter": "python",
   "pygments_lexer": "ipython3",
   "version": "3.8.8"
  }
 },
 "nbformat": 4,
 "nbformat_minor": 5
}
