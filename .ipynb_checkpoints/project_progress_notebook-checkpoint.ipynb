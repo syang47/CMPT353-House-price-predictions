{
 "cells": [
  {
   "cell_type": "code",
   "execution_count": 229,
   "id": "2cd01082",
   "metadata": {},
   "outputs": [],
   "source": [
    "import pandas as pd\n",
    "import numpy as np\n",
    "from math import radians, cos, sin, asin, sqrt\n",
    "\n",
    "def read_data():\n",
    "    listings_data = pd.read_csv('listings.csv.gz')\n",
    "    amenities_data = pd.read_json('amenities-vancouver.json.gz', lines=True)\n",
    "    return listings_data, amenities_data\n",
    "\n",
    "\n",
    "def clean_amenities_data(amenities_data, amenities_required):\n",
    "\n",
    "    #find unique amenities and the number of them to choose which are important for a traveller\n",
    "    # print(amenities_data['amenity'].value_counts())\n",
    "\n",
    "    \n",
    "    #adapted from : https://www.kite.com/python/answers/how-to-filter-a-pandas-dataframe-with-a-list-by-%60in%60-or-%60not-in%60-in-python\n",
    "    bool_series = amenities_data.amenity.isin(amenities_required)\n",
    "    filtered_amenities_df = amenities_data[bool_series]\n",
    "    filtered_amenities_df.reset_index(inplace=True, drop=True)\n",
    "\n",
    "    return filtered_amenities_df\n",
    "\n",
    "\n",
    "#reference: https://stackoverflow.com/questions/4913349/haversine-formula-in-python-bearing-and-distance-between-two-gps-points\n",
    "def haversine_distance(lon1, lat1, lon2, lat2):\n",
    "    # convert decimal degrees to radians \n",
    "    lon1, lat1, lon2, lat2 = map(radians, [lon1, lat1, lon2, lat2])\n",
    "    # haversine formula \n",
    "    dlon = lon2 - lon1 \n",
    "    dlat = lat2 - lat1 \n",
    "    a = sin(dlat/2)**2 + cos(lat1) * cos(lat2) * sin(dlon/2)**2\n",
    "    c = 2 * asin(sqrt(a)) \n",
    "    r = 6371 # Radius of earth in kilometers. Use 3956 for miles\n",
    "    return c * r * 1000\n",
    "\n",
    "def haversine_distance2(df, lon2, lat2):\n",
    "    # convert decimal degrees to radians \n",
    "    lon1=np.radians(df['lon'])\n",
    "    lat1=np.radians(df['lat'])\n",
    "    lon2=np.radians(lon2)\n",
    "    lat2=np.radians(lat2)\n",
    "    # haversine formula \n",
    "    dlon = lon2 - lon1 \n",
    "    dlat = lat2 - lat1 \n",
    "    a = (dlat/2).apply(np.sin)**2 + (lat1).apply(np.sin) * cos(lat2) * (dlon/2).apply(np.sin)**2\n",
    "    c = 2 * ((a).apply(sqrt).apply(asin)) \n",
    "    r = 6371 # Radius of earth in kilometers. Use 3956 for miles\n",
    "    return c * r * 1000\n",
    "\n",
    "def clean_listings_data(listings_data):\n",
    "    #keep only the columns we need\n",
    "    columns_needed = ['id', 'listing_url', 'name', 'description', 'picture_url', 'latitude', 'longitude', 'property_type', 'accommodates', 'bedrooms', 'beds', 'amenities', 'price']\n",
    "    listings_data = listings_data[columns_needed]\n",
    "    return listings_data\n",
    "\n",
    "\n",
    "# #TODO: return a dictionary with number of amenities in a 1km radius of this lat and lon\n",
    "def num_amenities(lat, lon, amenities_data_clean):\n",
    "    distance = haversine_distance2(amenities_data_clean, lon, lat)\n",
    "    osm_data['distance']=distance\n",
    "    data_withinR = osm_data.loc[osm_data['distance']<1000].reset_index(drop=True)\n",
    "    amenities_series=data_withinR.pivot_table(columns=['amenity'], aggfunc='size')  # Counts # of amenities, type=pd.series\n",
    "    amenities_dict=amenities_series.to_dict()# converts series to dict\n",
    "    return amenities_dict\n",
    "#     amenities_dict = dict.fromkeys(amenities_required,0)\n",
    "\n",
    "    \n"
   ]
  },
  {
   "cell_type": "code",
   "execution_count": 241,
   "id": "25008953",
   "metadata": {},
   "outputs": [],
   "source": [
    "\n",
    "#Read Data\n",
    "listings_data, amenities_data = read_data()\n",
    "\n",
    "# Change amenities here \n",
    "amenities_required = ['restaurant', 'fast_food', 'cafe','bank','atm','pharmacy','bicycle_rental','fuel','pub','bar','car_sharing','car_rental','clinic','doctors','hospital','ice_cream','fountain','theatre','police','bus_station']\n",
    "\n",
    "#Data Cleaning\n",
    "amenities_data_clean = clean_amenities_data(amenities_data, amenities_required)\n",
    "listings_data_clean = clean_listings_data(listings_data)\n",
    "\n",
    "#Return a dict of amenities:\n",
    "lat_input = 49.225164  # sample lat input\n",
    "lon_input = -123.003742  # sample lon input\n",
    "hello=num_amenities(lat_input, lon_input, amenities_data_clean, amenities_required)\n",
    "\n"
   ]
  },
  {
   "cell_type": "code",
   "execution_count": 231,
   "id": "643aafed",
   "metadata": {},
   "outputs": [],
   "source": [
    "num_amenities(49, -123, amenities_data_clean, amenities_required)"
   ]
  },
  {
   "cell_type": "code",
   "execution_count": 232,
   "id": "02729666",
   "metadata": {},
   "outputs": [],
   "source": [
    "osm_data=amenities_data_clean.drop(['timestamp','tags'], axis=1).dropna()"
   ]
  },
  {
   "cell_type": "code",
   "execution_count": 35,
   "id": "160a8703",
   "metadata": {},
   "outputs": [
    {
     "data": {
      "text/html": [
       "<div>\n",
       "<style scoped>\n",
       "    .dataframe tbody tr th:only-of-type {\n",
       "        vertical-align: middle;\n",
       "    }\n",
       "\n",
       "    .dataframe tbody tr th {\n",
       "        vertical-align: top;\n",
       "    }\n",
       "\n",
       "    .dataframe thead th {\n",
       "        text-align: right;\n",
       "    }\n",
       "</style>\n",
       "<table border=\"1\" class=\"dataframe\">\n",
       "  <thead>\n",
       "    <tr style=\"text-align: right;\">\n",
       "      <th></th>\n",
       "      <th>lat</th>\n",
       "      <th>lon</th>\n",
       "      <th>amenity</th>\n",
       "      <th>name</th>\n",
       "    </tr>\n",
       "  </thead>\n",
       "  <tbody>\n",
       "    <tr>\n",
       "      <th>56</th>\n",
       "      <td>49.225164</td>\n",
       "      <td>-123.003742</td>\n",
       "      <td>clinic</td>\n",
       "      <td>J-Von Medical Centre</td>\n",
       "    </tr>\n",
       "    <tr>\n",
       "      <th>199</th>\n",
       "      <td>49.126141</td>\n",
       "      <td>-123.183341</td>\n",
       "      <td>clinic</td>\n",
       "      <td>Empower Physiotherapy Clinic</td>\n",
       "    </tr>\n",
       "    <tr>\n",
       "      <th>338</th>\n",
       "      <td>49.165260</td>\n",
       "      <td>-122.661622</td>\n",
       "      <td>clinic</td>\n",
       "      <td>Medical</td>\n",
       "    </tr>\n",
       "    <tr>\n",
       "      <th>339</th>\n",
       "      <td>49.165260</td>\n",
       "      <td>-122.661622</td>\n",
       "      <td>clinic</td>\n",
       "      <td>Redwood Medical Clinic</td>\n",
       "    </tr>\n",
       "    <tr>\n",
       "      <th>417</th>\n",
       "      <td>49.185445</td>\n",
       "      <td>-122.847307</td>\n",
       "      <td>clinic</td>\n",
       "      <td>Central City Medical Clinic</td>\n",
       "    </tr>\n",
       "    <tr>\n",
       "      <th>...</th>\n",
       "      <td>...</td>\n",
       "      <td>...</td>\n",
       "      <td>...</td>\n",
       "      <td>...</td>\n",
       "    </tr>\n",
       "    <tr>\n",
       "      <th>6612</th>\n",
       "      <td>49.049523</td>\n",
       "      <td>-122.292133</td>\n",
       "      <td>clinic</td>\n",
       "      <td>Abbotsford Community Renal Services</td>\n",
       "    </tr>\n",
       "    <tr>\n",
       "      <th>6790</th>\n",
       "      <td>49.108015</td>\n",
       "      <td>-122.650452</td>\n",
       "      <td>clinic</td>\n",
       "      <td>Glover Medical Centre</td>\n",
       "    </tr>\n",
       "    <tr>\n",
       "      <th>6850</th>\n",
       "      <td>49.262480</td>\n",
       "      <td>-123.070379</td>\n",
       "      <td>clinic</td>\n",
       "      <td>Robert and Lily Lee Family Community Health Ce...</td>\n",
       "    </tr>\n",
       "    <tr>\n",
       "      <th>6885</th>\n",
       "      <td>49.139961</td>\n",
       "      <td>-122.888325</td>\n",
       "      <td>clinic</td>\n",
       "      <td>Aventus</td>\n",
       "    </tr>\n",
       "    <tr>\n",
       "      <th>6897</th>\n",
       "      <td>49.266708</td>\n",
       "      <td>-123.004734</td>\n",
       "      <td>clinic</td>\n",
       "      <td>Spring Medical Centre</td>\n",
       "    </tr>\n",
       "  </tbody>\n",
       "</table>\n",
       "<p>114 rows × 4 columns</p>\n",
       "</div>"
      ],
      "text/plain": [
       "            lat         lon amenity  \\\n",
       "56    49.225164 -123.003742  clinic   \n",
       "199   49.126141 -123.183341  clinic   \n",
       "338   49.165260 -122.661622  clinic   \n",
       "339   49.165260 -122.661622  clinic   \n",
       "417   49.185445 -122.847307  clinic   \n",
       "...         ...         ...     ...   \n",
       "6612  49.049523 -122.292133  clinic   \n",
       "6790  49.108015 -122.650452  clinic   \n",
       "6850  49.262480 -123.070379  clinic   \n",
       "6885  49.139961 -122.888325  clinic   \n",
       "6897  49.266708 -123.004734  clinic   \n",
       "\n",
       "                                                   name  \n",
       "56                                 J-Von Medical Centre  \n",
       "199                        Empower Physiotherapy Clinic  \n",
       "338                                             Medical  \n",
       "339                              Redwood Medical Clinic  \n",
       "417                         Central City Medical Clinic  \n",
       "...                                                 ...  \n",
       "6612                Abbotsford Community Renal Services  \n",
       "6790                              Glover Medical Centre  \n",
       "6850  Robert and Lily Lee Family Community Health Ce...  \n",
       "6885                                            Aventus  \n",
       "6897                              Spring Medical Centre  \n",
       "\n",
       "[114 rows x 4 columns]"
      ]
     },
     "execution_count": 35,
     "metadata": {},
     "output_type": "execute_result"
    }
   ],
   "source": [
    "lat = osm_data['lat']\n",
    "lon = osm_data['lon']\n",
    "osm_data['amenity'].unique()\n",
    "clinic_coord = osm_data[osm_data['amenity']=='clinic']\n",
    "clinic_coord"
   ]
  },
  {
   "cell_type": "code",
   "execution_count": 25,
   "id": "1b0282f3",
   "metadata": {},
   "outputs": [
    {
     "data": {
      "text/plain": [
       "0      -2.148949\n",
       "1      -2.148949\n",
       "2      -2.149432\n",
       "3      -2.149940\n",
       "4      -2.148658\n",
       "          ...   \n",
       "6928   -2.148086\n",
       "6929   -2.143381\n",
       "6930   -2.143223\n",
       "6931   -2.143735\n",
       "6932   -2.143724\n",
       "Name: lon, Length: 6566, dtype: float64"
      ]
     },
     "execution_count": 25,
     "metadata": {},
     "output_type": "execute_result"
    }
   ],
   "source": [
    "np.radians(osm_data['lat']) # converts latitude to radians\n",
    "np.radians(osm_data['lon']) # converts longitude to radians"
   ]
  },
  {
   "cell_type": "code",
   "execution_count": 233,
   "id": "abc28fc4",
   "metadata": {},
   "outputs": [
    {
     "data": {
      "text/plain": [
       "1414.1492092944136"
      ]
     },
     "metadata": {},
     "output_type": "display_data"
    },
    {
     "data": {
      "text/plain": [
       "1414.2779047650502"
      ]
     },
     "metadata": {},
     "output_type": "display_data"
    }
   ],
   "source": [
    "#TODO: Add a column to listings dataset:  \n",
    "# each element with a dictionary of number of amenities in a 1km radius of a listing.\n",
    "\n",
    "# example input\n",
    "\n",
    "\n",
    "lat1=49.126141\n",
    "lon1=-123.183341\n",
    "# \n",
    "distance = haversine_distance(lon_posR, lat_posR, lon_input, lat_input)\n",
    "\n",
    "distance2 = haversine_distance(lon_negR, lat_negR, lon_input, lat_input)\n",
    "\n",
    "display(distance, distance2)"
   ]
  },
  {
   "cell_type": "code",
   "execution_count": 155,
   "id": "cbd72513",
   "metadata": {},
   "outputs": [
    {
     "data": {
      "text/plain": [
       "49.23415721605919"
      ]
     },
     "metadata": {},
     "output_type": "display_data"
    },
    {
     "data": {
      "text/plain": [
       "-122.98997170402656"
      ]
     },
     "metadata": {},
     "output_type": "display_data"
    }
   ],
   "source": [
    "#TODO: return a dictionary with number of amenities in a 1km radius of this lat and lon\n",
    "\n",
    "# def num_amenities(lat, lon, amenities_data_clean, amenities_required):\n",
    "#     amenities_dict = dict.fromkeys(amenities_required,0)\n",
    "\n",
    "# lat + 1km\n",
    "lat_input = 49.225164\n",
    "lon_input = -123.003742\n",
    "earth_radius=6371\n",
    "m=(1/((2*pi/360)*earth_radius))/1000\n",
    "\n",
    "lat_posR = lat_input+(1000*m)\n",
    "lon_posR = lon_input+((1000*m)/cos(lat_input*(pi/180)))\n",
    "lat_negR = lat_input-(1/6371)*(180/pi)\n",
    "lon_negR = lon_input-(1/6371)*(180/pi)/cos(lat_input*pi/180)\n",
    "\n",
    "display(lat_posR,lon_posR)"
   ]
  },
  {
   "cell_type": "code",
   "execution_count": 160,
   "id": "7b8d977c",
   "metadata": {},
   "outputs": [
    {
     "data": {
      "text/plain": [
       "tuple"
      ]
     },
     "execution_count": 160,
     "metadata": {},
     "output_type": "execute_result"
    }
   ],
   "source": [
    "\n",
    "origin_pair=(lat_input,lon_input)\n",
    "type(origin_pair)"
   ]
  },
  {
   "cell_type": "code",
   "execution_count": 161,
   "id": "2e85efd6",
   "metadata": {},
   "outputs": [
    {
     "ename": "ModuleNotFoundError",
     "evalue": "No module named 'geopy'",
     "output_type": "error",
     "traceback": [
      "\u001b[1;31m---------------------------------------------------------------------------\u001b[0m",
      "\u001b[1;31mModuleNotFoundError\u001b[0m                       Traceback (most recent call last)",
      "\u001b[1;32m<ipython-input-161-1ddc9a56098c>\u001b[0m in \u001b[0;36m<module>\u001b[1;34m\u001b[0m\n\u001b[1;32m----> 1\u001b[1;33m \u001b[1;32mfrom\u001b[0m \u001b[0mgeopy\u001b[0m \u001b[1;32mimport\u001b[0m \u001b[0mdistance\u001b[0m\u001b[1;33m\u001b[0m\u001b[1;33m\u001b[0m\u001b[0m\n\u001b[0m\u001b[0;32m      2\u001b[0m \u001b[0mprint\u001b[0m\u001b[1;33m(\u001b[0m\u001b[0mdistance\u001b[0m\u001b[1;33m.\u001b[0m\u001b[0mdistance\u001b[0m\u001b[1;33m(\u001b[0m\u001b[0morigin_par\u001b[0m\u001b[1;33m,\u001b[0m\u001b[1;33m(\u001b[0m\u001b[0mlat1\u001b[0m\u001b[1;33m,\u001b[0m\u001b[0mlon1\u001b[0m\u001b[1;33m)\u001b[0m\u001b[1;33m)\u001b[0m\u001b[1;33m)\u001b[0m\u001b[1;33m\u001b[0m\u001b[1;33m\u001b[0m\u001b[0m\n",
      "\u001b[1;31mModuleNotFoundError\u001b[0m: No module named 'geopy'"
     ]
    }
   ],
   "source": [
    "from geopy import distance\n",
    "print(distance.distance(origin_par,(lat1,lon1)))"
   ]
  },
  {
   "cell_type": "code",
   "execution_count": 180,
   "id": "b3b1abef",
   "metadata": {},
   "outputs": [],
   "source": [
    "# osm_data['newlon']=lon_input-osm_data['lon']\n",
    "# osm_data['newlat']=lat_input-osm_data['lat']\n",
    "# osm_data['newlat']=osm_data['newlat']/2\n",
    "# osm_data['newlat']=osm_data['newlat'].apply(np.sin)\n",
    "# osm_data['newlat']=osm_data['newlat']**2"
   ]
  },
  {
   "cell_type": "code",
   "execution_count": 234,
   "id": "eecfffd6",
   "metadata": {},
   "outputs": [],
   "source": [
    "def haversine_distance2(df, lon2, lat2):\n",
    "    # convert decimal degrees to radians \n",
    "    lon1=np.radians(df['lon'])\n",
    "    lat1=np.radians(df['lat'])\n",
    "    lon2=np.radians(lon2)\n",
    "    lat2=np.radians(lat2)\n",
    "    # haversine formula \n",
    "    dlon = lon2 - lon1 \n",
    "    dlat = lat2 - lat1 \n",
    "    a = (dlat/2).apply(np.sin)**2 + (lat1).apply(np.sin) * cos(lat2) * (dlon/2).apply(np.sin)**2\n",
    "    c = 2 * ((a).apply(sqrt).apply(asin)) \n",
    "    r = 6371 # Radius of earth in kilometers. Use 3956 for miles\n",
    "    return c * r * 1000\n"
   ]
  },
  {
   "cell_type": "code",
   "execution_count": 235,
   "id": "e50a00df",
   "metadata": {},
   "outputs": [
    {
     "data": {
      "text/html": [
       "<div>\n",
       "<style scoped>\n",
       "    .dataframe tbody tr th:only-of-type {\n",
       "        vertical-align: middle;\n",
       "    }\n",
       "\n",
       "    .dataframe tbody tr th {\n",
       "        vertical-align: top;\n",
       "    }\n",
       "\n",
       "    .dataframe thead th {\n",
       "        text-align: right;\n",
       "    }\n",
       "</style>\n",
       "<table border=\"1\" class=\"dataframe\">\n",
       "  <thead>\n",
       "    <tr style=\"text-align: right;\">\n",
       "      <th></th>\n",
       "      <th>lat</th>\n",
       "      <th>lon</th>\n",
       "      <th>amenity</th>\n",
       "      <th>name</th>\n",
       "      <th>distance</th>\n",
       "    </tr>\n",
       "  </thead>\n",
       "  <tbody>\n",
       "    <tr>\n",
       "      <th>0</th>\n",
       "      <td>49.225164</td>\n",
       "      <td>-123.003742</td>\n",
       "      <td>clinic</td>\n",
       "      <td>J-Von Medical Centre</td>\n",
       "      <td>0.013594</td>\n",
       "    </tr>\n",
       "    <tr>\n",
       "      <th>1</th>\n",
       "      <td>49.227030</td>\n",
       "      <td>-123.004458</td>\n",
       "      <td>pharmacy</td>\n",
       "      <td>Rexall</td>\n",
       "      <td>214.881966</td>\n",
       "    </tr>\n",
       "    <tr>\n",
       "      <th>2</th>\n",
       "      <td>49.229246</td>\n",
       "      <td>-123.004694</td>\n",
       "      <td>fountain</td>\n",
       "      <td>Mermaid Fountain</td>\n",
       "      <td>459.944393</td>\n",
       "    </tr>\n",
       "    <tr>\n",
       "      <th>3</th>\n",
       "      <td>49.229028</td>\n",
       "      <td>-122.998951</td>\n",
       "      <td>cafe</td>\n",
       "      <td>Mr. Mustache Tea &amp; Dessert</td>\n",
       "      <td>570.068693</td>\n",
       "    </tr>\n",
       "    <tr>\n",
       "      <th>4</th>\n",
       "      <td>49.221814</td>\n",
       "      <td>-122.996932</td>\n",
       "      <td>fast_food</td>\n",
       "      <td>Domino's</td>\n",
       "      <td>649.905726</td>\n",
       "    </tr>\n",
       "    <tr>\n",
       "      <th>...</th>\n",
       "      <td>...</td>\n",
       "      <td>...</td>\n",
       "      <td>...</td>\n",
       "      <td>...</td>\n",
       "      <td>...</td>\n",
       "    </tr>\n",
       "    <tr>\n",
       "      <th>195</th>\n",
       "      <td>49.225303</td>\n",
       "      <td>-123.004036</td>\n",
       "      <td>cafe</td>\n",
       "      <td>Fondway Cafe</td>\n",
       "      <td>27.690813</td>\n",
       "    </tr>\n",
       "    <tr>\n",
       "      <th>196</th>\n",
       "      <td>49.232176</td>\n",
       "      <td>-123.009826</td>\n",
       "      <td>pharmacy</td>\n",
       "      <td>The Medicine Shoppe</td>\n",
       "      <td>913.413939</td>\n",
       "    </tr>\n",
       "    <tr>\n",
       "      <th>197</th>\n",
       "      <td>49.231303</td>\n",
       "      <td>-123.005032</td>\n",
       "      <td>pharmacy</td>\n",
       "      <td>Shoppers Drug Mart</td>\n",
       "      <td>690.008969</td>\n",
       "    </tr>\n",
       "    <tr>\n",
       "      <th>198</th>\n",
       "      <td>49.225606</td>\n",
       "      <td>-122.996612</td>\n",
       "      <td>cafe</td>\n",
       "      <td>CoCo Fresh Tea &amp; Juice</td>\n",
       "      <td>559.751885</td>\n",
       "    </tr>\n",
       "    <tr>\n",
       "      <th>199</th>\n",
       "      <td>49.226031</td>\n",
       "      <td>-123.001981</td>\n",
       "      <td>bank</td>\n",
       "      <td>CIBC</td>\n",
       "      <td>168.075160</td>\n",
       "    </tr>\n",
       "  </tbody>\n",
       "</table>\n",
       "<p>200 rows × 5 columns</p>\n",
       "</div>"
      ],
      "text/plain": [
       "           lat         lon    amenity                        name    distance\n",
       "0    49.225164 -123.003742     clinic        J-Von Medical Centre    0.013594\n",
       "1    49.227030 -123.004458   pharmacy                      Rexall  214.881966\n",
       "2    49.229246 -123.004694   fountain            Mermaid Fountain  459.944393\n",
       "3    49.229028 -122.998951       cafe  Mr. Mustache Tea & Dessert  570.068693\n",
       "4    49.221814 -122.996932  fast_food                    Domino's  649.905726\n",
       "..         ...         ...        ...                         ...         ...\n",
       "195  49.225303 -123.004036       cafe                Fondway Cafe   27.690813\n",
       "196  49.232176 -123.009826   pharmacy         The Medicine Shoppe  913.413939\n",
       "197  49.231303 -123.005032   pharmacy          Shoppers Drug Mart  690.008969\n",
       "198  49.225606 -122.996612       cafe      CoCo Fresh Tea & Juice  559.751885\n",
       "199  49.226031 -123.001981       bank                        CIBC  168.075160\n",
       "\n",
       "[200 rows x 5 columns]"
      ]
     },
     "execution_count": 235,
     "metadata": {},
     "output_type": "execute_result"
    }
   ],
   "source": [
    "distance = haversine_distance2(osm_data, lon_input, lat_input)\n",
    "osm_data['distance']=distance\n",
    "data_withinR = osm_data.loc[osm_data['distance']<1000].reset_index(drop=True)\n",
    "data_withinR"
   ]
  },
  {
   "cell_type": "code",
   "execution_count": 277,
   "id": "8bf93a00",
   "metadata": {},
   "outputs": [
    {
     "data": {
      "text/plain": [
       "{'bank': 16,\n",
       " 'bar': 16,\n",
       " 'bus_station': 1,\n",
       " 'cafe': 27,\n",
       " 'car_rental': 1,\n",
       " 'clinic': 8,\n",
       " 'fast_food': 61,\n",
       " 'fountain': 1,\n",
       " 'fuel': 1,\n",
       " 'ice_cream': 1,\n",
       " 'pharmacy': 9,\n",
       " 'police': 1,\n",
       " 'pub': 1,\n",
       " 'restaurant': 56}"
      ]
     },
     "execution_count": 277,
     "metadata": {},
     "output_type": "execute_result"
    }
   ],
   "source": [
    "num_of_amen=data_withinR.pivot_table(columns=['amenity'], aggfunc='size')  # Counts # of amenities, type=pd.series\n",
    "\n",
    "num_of_amen.to_dict()# converts series to dict"
   ]
  },
  {
   "cell_type": "code",
   "execution_count": 278,
   "id": "45600fe6",
   "metadata": {},
   "outputs": [],
   "source": [
    "amenities_dict = dict.fromkeys(amenities_required,0)"
   ]
  },
  {
   "cell_type": "code",
   "execution_count": 286,
   "id": "352e313a",
   "metadata": {},
   "outputs": [],
   "source": [
    "# #TODO: return a dictionary with number of amenities in a 1km radius of this lat and lon\n",
    "def num_amenities(lat, lon, amenities_data_clean):\n",
    "    distance = haversine_distance2(amenities_data_clean, lon, lat)\n",
    "    osm_data['distance']=distance\n",
    "    data_withinR = osm_data.loc[osm_data['distance']<1000].reset_index(drop=True)\n",
    "    amenities_series=data_withinR.pivot_table(columns=['amenity'], aggfunc='size')  # Counts # of amenities, type=pd.series\n",
    "    amenities_dict=amenities_series.to_dict()# converts series to dict\n",
    "    return amenities_dict\n",
    "#     amenities_dict = dict.fromkeys(amenities_required,0)\n"
   ]
  },
  {
   "cell_type": "code",
   "execution_count": 287,
   "id": "3ee8b55b",
   "metadata": {},
   "outputs": [
    {
     "data": {
      "text/plain": [
       "{'bank': 16,\n",
       " 'bar': 16,\n",
       " 'bus_station': 1,\n",
       " 'cafe': 27,\n",
       " 'car_rental': 1,\n",
       " 'clinic': 8,\n",
       " 'fast_food': 61,\n",
       " 'fountain': 1,\n",
       " 'fuel': 1,\n",
       " 'ice_cream': 1,\n",
       " 'pharmacy': 9,\n",
       " 'police': 1,\n",
       " 'pub': 1,\n",
       " 'restaurant': 56}"
      ]
     },
     "metadata": {},
     "output_type": "display_data"
    }
   ],
   "source": [
    "hello=num_amenities(lat_input, lon_input, amenities_data_clean, amenities_required)\n",
    "display(hello)"
   ]
  },
  {
   "cell_type": "code",
   "execution_count": 288,
   "id": "f895d360",
   "metadata": {},
   "outputs": [
    {
     "data": {
      "text/plain": [
       "{'bank': 16,\n",
       " 'bar': 16,\n",
       " 'bus_station': 1,\n",
       " 'cafe': 27,\n",
       " 'car_rental': 1,\n",
       " 'clinic': 8,\n",
       " 'fast_food': 61,\n",
       " 'fountain': 1,\n",
       " 'fuel': 1,\n",
       " 'ice_cream': 1,\n",
       " 'pharmacy': 9,\n",
       " 'police': 1,\n",
       " 'pub': 1,\n",
       " 'restaurant': 56}"
      ]
     },
     "execution_count": 288,
     "metadata": {},
     "output_type": "execute_result"
    }
   ],
   "source": [
    "osm_data\n",
    "hello"
   ]
  },
  {
   "cell_type": "code",
   "execution_count": null,
   "id": "a45fd95a",
   "metadata": {},
   "outputs": [],
   "source": []
  }
 ],
 "metadata": {
  "kernelspec": {
   "display_name": "Python 3",
   "language": "python",
   "name": "python3"
  },
  "language_info": {
   "codemirror_mode": {
    "name": "ipython",
    "version": 3
   },
   "file_extension": ".py",
   "mimetype": "text/x-python",
   "name": "python",
   "nbconvert_exporter": "python",
   "pygments_lexer": "ipython3",
   "version": "3.8.8"
  }
 },
 "nbformat": 4,
 "nbformat_minor": 5
}
